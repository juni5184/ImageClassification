{
 "cells": [
  {
   "cell_type": "code",
   "execution_count": 1,
   "metadata": {
    "collapsed": true
   },
   "outputs": [],
   "source": [
    "from __future__ import print_function, division\n",
    "\n",
    "import numpy as np\n",
    "import os, os.path, sys\n",
    "import glob\n",
    "import shutil\n",
    "\n",
    "from sklearn.model_selection import KFold # import KFold\n",
    "from matplotlib import pyplot as plt\n",
    "\n",
    "import matplotlib.pylab as plt\n",
    "import matplotlib.animation as animation"
   ]
  },
  {
   "cell_type": "code",
   "execution_count": 2,
   "metadata": {
    "collapsed": false
   },
   "outputs": [
    {
     "name": "stdout",
     "output_type": "stream",
     "text": [
      "\n 폴더 생성 완료\n"
     ]
    }
   ],
   "source": [
    "data_dir = 'dataset_cross'\n",
    "\n",
    "folders = np.array(glob.glob(os.path.join(data_dir + '/train/**/')))\n",
    "folder_items = np.array(glob.glob(os.path.join(data_dir + '/train/**/','*')))\n",
    "\n",
    "# 폴더 정보\n",
    "nb_folders = len(folders)\n",
    "folder_idx = np.arange(nb_folders)\n",
    "# 폴더 내부 sub_folder 정보\n",
    "nb_folder_items = len(folder_items)\n",
    "folder_item_idx = np.arange(nb_folder_items)\n",
    "\n",
    "# Val folder 가 존재하면 생성 X\n",
    "if(os.path.exists(data_dir+'/val') == False) :\n",
    "    os.mkdir(data_dir+'/val')\n",
    "\n",
    "# 전체 카테고리 개수\n",
    "# print(nb_folders)\n",
    "\n",
    "# 전체 index 배열\n",
    "# print(folder_idx)\n",
    "   \n",
    "# 각각의 카테고리별로 45번 반복\n",
    "# Val 카테고리로 이동\n",
    "for i in range(nb_folders): \n",
    "    # folder 가 존재하면 생성 X\n",
    "    if(os.path.exists(data_dir+'/val'+ folders[i][19:]) == False):\n",
    "        # folders 개수 만큼 Val 폴더 안에 동일한 폴더 생성\n",
    "        os.mkdir(data_dir + '/val' + folders[i][19:])\n",
    "        # 카테고리 생성 완료\n",
    "    \n",
    "print(\"\\n 폴더 생성 완료\")\n",
    "# train -> val 이동 완료"
   ]
  },
  {
   "cell_type": "code",
   "execution_count": 3,
   "metadata": {},
   "outputs": [
    {
     "name": "stdout",
     "output_type": "stream",
     "text": [
      "300\ndataset_cross/train\\Afgan_hound\\\n\nTEST:  6   [  2  10  14  19  41  43  50  51  58  62  80  86 104 123 130 155 179 187\n 199 200 209 210 226 233 235 241 254 260 266 292]\n300\ndataset_cross/train\\Australian_collie\\\n\nTEST:  6   [  2  10  14  19  41  43  50  51  58  62  80  86 104 123 130 155 179 187\n 199 200 209 210 226 233 235 241 254 260 266 292]\n300\ndataset_cross/train\\Basset_hound\\\n\nTEST:  6   [  2  10  14  19  41  43  50  51  58  62  80  86 104 123 130 155 179 187\n 199 200 209 210 226 233 235 241 254 260 266 292]\n300\ndataset_cross/train\\Beagle\\\n\nTEST:  6   [  2  10  14  19  41  43  50  51  58  62  80  86 104 123 130 155 179 187\n 199 200 209 210 226 233 235 241 254 260 266 292]\n300\ndataset_cross/train\\Bichon_frise\\\n\nTEST:  6   [  2  10  14  19  41  43  50  51  58  62  80  86 104 123 130 155 179 187\n 199 200 209 210 226 233 235 241 254 260 266 292]\n300\ndataset_cross/train\\Bicolor_cat\\\n\nTEST:  6   [  2  10  14  19  41  43  50  51  58  62  80  86 104 123 130 155 179 187\n 199 200 209 210 226 233 235 241 254 260 266 292]\n300\ndataset_cross/train\\Black_cat\\\n\nTEST:  6   [  2  10  14  19  41  43  50  51  58  62  80  86 104 123 130 155 179 187\n 199 200 209 210 226 233 235 241 254 260 266 292]\n300\ndataset_cross/train\\Borzoi\\\n\nTEST:  6   [  2  10  14  19  41  43  50  51  58  62  80  86 104 123 130 155 179 187\n 199 200 209 210 226 233 235 241 254 260 266 292]\n"
     ]
    },
    {
     "name": "stdout",
     "output_type": "stream",
     "text": [
      "300\ndataset_cross/train\\Bull_dog\\\n\nTEST:  6   [  2  10  14  19  41  43  50  51  58  62  80  86 104 123 130 155 179 187\n 199 200 209 210 226 233 235 241 254 260 266 292]\n300\ndataset_cross/train\\Bull_Terrier\\\n\nTEST:  6   [  2  10  14  19  41  43  50  51  58  62  80  86 104 123 130 155 179 187\n 199 200 209 210 226 233 235 241 254 260 266 292]\n300\ndataset_cross/train\\Chihuahua\\\n\nTEST:  6   [  2  10  14  19  41  43  50  51  58  62  80  86 104 123 130 155 179 187\n 199 200 209 210 226 233 235 241 254 260 266 292]\n300\ndataset_cross/train\\Chow_chow\\\n\nTEST:  6   [  2  10  14  19  41  43  50  51  58  62  80  86 104 123 130 155 179 187\n 199 200 209 210 226 233 235 241 254 260 266 292]\n300\ndataset_cross/train\\Collie_group\\\n\nTEST:  6   [  2  10  14  19  41  43  50  51  58  62  80  86 104 123 130 155 179 187\n 199 200 209 210 226 233 235 241 254 260 266 292]\n300\ndataset_cross/train\\Color_mixed_cat\\\n\nTEST:  6   [  2  10  14  19  41  43  50  51  58  62  80  86 104 123 130 155 179 187\n 199 200 209 210 226 233 235 241 254 260 266 292]\n300\ndataset_cross/train\\Dalmatian\\\n\nTEST:  6   [  2  10  14  19  41  43  50  51  58  62  80  86 104 123 130 155 179 187\n 199 200 209 210 226 233 235 241 254 260 266 292]\n"
     ]
    },
    {
     "name": "stdout",
     "output_type": "stream",
     "text": [
      "300\ndataset_cross/train\\Dark_point_cat\\\n\nTEST:  6   [  2  10  14  19  41  43  50  51  58  62  80  86 104 123 130 155 179 187\n 199 200 209 210 226 233 235 241 254 260 266 292]\n300\ndataset_cross/train\\English_setter\\\n\nTEST:  6   [  2  10  14  19  41  43  50  51  58  62  80  86 104 123 130 155 179 187\n 199 200 209 210 226 233 235 241 254 260 266 292]\n301\ndataset_cross/train\\Fox_terrier\\\n\nTEST:  6   [  2  10  14  19  41  50  51  58  62  80  86 104 123 130 155 181 188 189\n 194 213 228 233 235 237 256 267 269 270 278 293]\n300\ndataset_cross/train\\Gray_cat\\\n\nTEST:  6   [  2  10  14  19  41  43  50  51  58  62  80  86 104 123 130 155 179 187\n 199 200 209 210 226 233 235 241 254 260 266 292]\n299\ndataset_cross/train\\Grey_hound\\\n\nTEST:  6   [  2  10  14  19  41  43  50  51  58  62  80  86 104 123 130 155 179 187\n 198 199 207 208 209 224 229 233 239 252 259 268]\n300\ndataset_cross/train\\Hairless_cat\\\n\nTEST:  6   [  2  10  14  19  41  43  50  51  58  62  80  86 104 123 130 155 179 187\n 199 200 209 210 226 233 235 241 254 260 266 292]\n300\ndataset_cross/train\\Husky_group\\\n\nTEST:  6   [  2  10  14  19  41  43  50  51  58  62  80  86 104 123 130 155 179 187\n 199 200 209 210 226 233 235 241 254 260 266 292]\n300\ndataset_cross/train\\Japanese_chin\\\n\nTEST:  6   [  2  10  14  19  41  43  50  51  58  62  80  86 104 123 130 155 179 187\n 199 200 209 210 226 233 235 241 254 260 266 292]\n"
     ]
    },
    {
     "name": "stdout",
     "output_type": "stream",
     "text": [
      "300\ndataset_cross/train\\Maltese\\\n\nTEST:  6   [  2  10  14  19  41  43  50  51  58  62  80  86 104 123 130 155 179 187\n 199 200 209 210 226 233 235 241 254 260 266 292]\n300\ndataset_cross/train\\Papillon\\\n\nTEST:  6   [  2  10  14  19  41  43  50  51  58  62  80  86 104 123 130 155 179 187\n 199 200 209 210 226 233 235 241 254 260 266 292]\n300\ndataset_cross/train\\Pincher_group\\\n\nTEST:  6   [  2  10  14  19  41  43  50  51  58  62  80  86 104 123 130 155 179 187\n 199 200 209 210 226 233 235 241 254 260 266 292]\n300\ndataset_cross/train\\Pit_bull_terrier\\\n\nTEST:  6   [  2  10  14  19  41  43  50  51  58  62  80  86 104 123 130 155 179 187\n 199 200 209 210 226 233 235 241 254 260 266 292]\n300\ndataset_cross/train\\Pointer_group\\\n\nTEST:  6   [  2  10  14  19  41  43  50  51  58  62  80  86 104 123 130 155 179 187\n 199 200 209 210 226 233 235 241 254 260 266 292]\n300\ndataset_cross/train\\Poodle\\\n\nTEST:  6   [  2  10  14  19  41  43  50  51  58  62  80  86 104 123 130 155 179 187\n 199 200 209 210 226 233 235 241 254 260 266 292]\n300\ndataset_cross/train\\Pug\\\n\nTEST:  6   [  2  10  14  19  41  43  50  51  58  62  80  86 104 123 130 155 179 187\n 199 200 209 210 226 233 235 241 254 260 266 292]\n"
     ]
    },
    {
     "name": "stdout",
     "output_type": "stream",
     "text": [
      "300\ndataset_cross/train\\Retriever_group\\\n\nTEST:  6   [  2  10  14  19  41  43  50  51  58  62  80  86 104 123 130 155 179 187\n 199 200 209 210 226 233 235 241 254 260 266 292]\n300\ndataset_cross/train\\Samoyed\\\n\nTEST:  6   [  2  10  14  19  41  43  50  51  58  62  80  86 104 123 130 155 179 187\n 199 200 209 210 226 233 235 241 254 260 266 292]\n300\ndataset_cross/train\\Schnauzer\\\n\nTEST:  6   [  2  10  14  19  41  43  50  51  58  62  80  86 104 123 130 155 179 187\n 199 200 209 210 226 233 235 241 254 260 266 292]\n300\ndataset_cross/train\\Shepherd_group\\\n\nTEST:  6   [  2  10  14  19  41  43  50  51  58  62  80  86 104 123 130 155 179 187\n 199 200 209 210 226 233 235 241 254 260 266 292]\n300\ndataset_cross/train\\Shiba_inu\\\n\nTEST:  6   [  2  10  14  19  41  43  50  51  58  62  80  86 104 123 130 155 179 187\n 199 200 209 210 226 233 235 241 254 260 266 292]\n300\ndataset_cross/train\\Shih_tzu\\\n\nTEST:  6   [  2  10  14  19  41  43  50  51  58  62  80  86 104 123 130 155 179 187\n 199 200 209 210 226 233 235 241 254 260 266 292]\n301\ndataset_cross/train\\Silky_terrier\\\n\nTEST:  6   [  2  10  14  19  41  50  51  58  62  80  86 104 123 130 155 181 188 189\n 194 213 228 233 235 237 256 267 269 270 278 293]\n"
     ]
    },
    {
     "name": "stdout",
     "output_type": "stream",
     "text": [
      "301\ndataset_cross/train\\Spaniel_group\\\n\nTEST:  6   [  2  10  14  19  41  50  51  58  62  80  86 104 123 130 155 181 188 189\n 194 213 228 233 235 237 256 267 269 270 278 293]\n301\ndataset_cross/train\\Spitz_group\\\n\nTEST:  6   [  2  10  14  19  41  50  51  58  62  80  86 104 123 130 155 181 188 189\n 194 213 228 233 235 237 256 267 269 270 278 293]\n301\ndataset_cross/train\\Tabby_cat\\\n\nTEST:  6   [  2  10  14  19  41  50  51  58  62  80  86 104 123 130 155 181 188 189\n 194 213 228 233 235 237 256 267 269 270 278 293]\n301\ndataset_cross/train\\Terrier_group\\\n\nTEST:  6   [  2  10  14  19  41  50  51  58  62  80  86 104 123 130 155 181 188 189\n 194 213 228 233 235 237 256 267 269 270 278 293]\n301\ndataset_cross/train\\Welsh_corgi\\\n\nTEST:  6   [  2  10  14  19  41  50  51  58  62  80  86 104 123 130 155 181 188 189\n 194 213 228 233 235 237 256 267 269 270 278 293]\n300\ndataset_cross/train\\White_cat\\\n\nTEST:  6   [  2  10  14  19  41  43  50  51  58  62  80  86 104 123 130 155 179 187\n 199 200 209 210 226 233 235 241 254 260 266 292]\n301\n"
     ]
    },
    {
     "name": "stdout",
     "output_type": "stream",
     "text": [
      "dataset_cross/train\\Yellow_cat\\\n\nTEST:  6   [  2  10  14  19  41  50  51  58  62  80  86 104 123 130 155 181 188 189\n 194 213 228 233 235 237 256 267 269 270 278 293]\n300\ndataset_cross/train\\Yellow_tabby_cat\\\n\nTEST:  6   [  2  10  14  19  41  43  50  51  58  62  80  86 104 123 130 155 179 187\n 199 200 209 210 226 233 235 241 254 260 266 292]\n\ntrain->val 이동 끝\n"
     ]
    }
   ],
   "source": [
    "for i in range(nb_folders): \n",
    "    start_folder = data_dir+'/train' + folders[i][19:]\n",
    "    val_folder = data_dir+'/val' + folders[i][19:]\n",
    "    \n",
    "    # print(start_folder) # 45개 category 명\n",
    "    # 한 카테고리 image 전체 불러오기\n",
    "    train_items = np.array(glob.glob(os.path.join(start_folder,'*')))\n",
    "    val_items = np.array(glob.glob(os.path.join(val_folder,'*')))\n",
    "    # 한카테고리의 데이터 개수\n",
    "    nb_train_items = len(train_items)\n",
    "    # sub 폴더 내 image 개수\n",
    "    print(nb_train_items)\n",
    "    train_items_idx = np.arange(nb_train_items)\n",
    "\n",
    "    # sub_folder 내 image 5개로 쪼개기    \n",
    "    kf = KFold(random_state=0, shuffle=True, n_splits=10)\n",
    "    kf.get_n_splits(train_items)\n",
    "\n",
    "    print(start_folder)\n",
    "\n",
    "    # split 번호 k \n",
    "    k = 0\n",
    "    for train, val in kf.split(train_items):\n",
    "        #print(\"TRAIN: \", train)\n",
    "        k = k+1\n",
    "        # split 1번 val 이동\n",
    "        # k 값에 따라 20% 이동 1,2,3,4,5\n",
    "        if(k == 6):\n",
    "            print(\"\\nTEST: \", k, \" \", val)\n",
    "            # folders_train = train_items[train]\n",
    "            folders_test = train_items[val]\n",
    "               \n",
    "            dest_folder = data_dir+'/val' + folders[i][19:]\n",
    "            for folder in folders_test: \n",
    "                #print('Moving {} to {}'.format(folder, dest_folder))\n",
    "                shutil.move(folder, dest_folder) \n",
    "                \n",
    "print(\"\\ntrain->val 이동 끝\")"
   ]
  },
  {
   "cell_type": "code",
   "execution_count": 2,
   "metadata": {},
   "outputs": [],
   "source": [
    ""
   ]
  },
  {
   "cell_type": "code",
   "execution_count": 1,
   "metadata": {},
   "outputs": [],
   "source": [
    ""
   ]
  },
  {
   "cell_type": "code",
   "execution_count": 2,
   "metadata": {},
   "outputs": [],
   "source": [
    ""
   ]
  },
  {
   "cell_type": "code",
   "execution_count": 4,
   "metadata": {},
   "outputs": [],
   "source": [
    ""
   ]
  },
  {
   "cell_type": "code",
   "execution_count": 1,
   "metadata": {},
   "outputs": [],
   "source": [
    ""
   ]
  },
  {
   "cell_type": "code",
   "execution_count": 11,
   "metadata": {},
   "outputs": [],
   "source": [
    ""
   ]
  },
  {
   "cell_type": "code",
   "execution_count": 1,
   "metadata": {},
   "outputs": [],
   "source": [
    ""
   ]
  },
  {
   "cell_type": "code",
   "execution_count": 3,
   "metadata": {},
   "outputs": [],
   "source": [
    ""
   ]
  },
  {
   "cell_type": "code",
   "execution_count": null,
   "metadata": {},
   "outputs": [],
   "source": []
  },
  {
   "cell_type": "code",
   "execution_count": 27,
   "metadata": {},
   "outputs": [],
   "source": [
    ""
   ]
  },
  {
   "cell_type": "code",
   "execution_count": 27,
   "metadata": {},
   "outputs": [],
   "source": [
    ""
   ]
  },
  {
   "cell_type": "code",
   "execution_count": 27,
   "metadata": {},
   "outputs": [],
   "source": [
    ""
   ]
  }
 ],
 "metadata": {
  "kernelspec": {
   "display_name": "Python 2",
   "language": "python",
   "name": "python2"
  },
  "language_info": {
   "codemirror_mode": {
    "name": "ipython",
    "version": 2
   },
   "file_extension": ".py",
   "mimetype": "text/x-python",
   "name": "python",
   "nbconvert_exporter": "python",
   "pygments_lexer": "ipython2",
   "version": "2.7.6"
  }
 },
 "nbformat": 4,
 "nbformat_minor": 0
}
